{
  "nbformat": 4,
  "nbformat_minor": 0,
  "metadata": {
    "colab": {
      "name": "ImpostoSimples.ipynb",
      "provenance": [],
      "collapsed_sections": []
    },
    "kernelspec": {
      "name": "python3",
      "display_name": "Python 3"
    },
    "language_info": {
      "name": "python"
    }
  },
  "cells": [
    {
      "cell_type": "markdown",
      "source": [
        "\n",
        "<h2><b> CALCULO DO IMPOSTO - EMPRESA: PADARIA DO ZECA<b><h2/>\n",
        "<h4>REGIME TRIBUTARIO - SIMPLES NACIONAL<h4/>\n",
        "<h4>ATIVIDADE - Padaria e confeitaria com predominância de revenda<h4/>\n",
        "<h4>CNAE - 4721-1/02<h4/> \n",
        "<h4>Anexo I<h4/>\n",
        "\n"
      ],
      "metadata": {
        "id": "klg-Y3_IRv-l"
      }
    },
    {
      "cell_type": "markdown",
      "source": [
        "![Anexo I.png](data:image/png;base64,iVBORw0KGgoAAAANSUhEUgAAAqMAAAD6CAIAAAAa49kpAAAAAXNSR0IArs4c6QAAAARnQU1BAACxjwv8YQUAAAAJcEhZcwAADsMAAA7DAcdvqGQAADxbSURBVHhe7Zy/i1xX0vf9Vyh0aDaxcGBHxsGCDA6MIzuSIzsRIwljwyRCaGCUWGKDUTCBjJGFlIxgQRIDEogBBRNYCmxmkoFX+9jLPrKQnpmdfeV3vVp7vc/6rTo/q8451benNd3TffX9UIju0+eee86pb1Xde7tHL/0GAAAAgP5iVvp//us/T3789b93f/nT//z8f57AYDAYDAabUqNKTfWaqjbV7lDFBY1KT722/9+vxSgwGAwGg8Gm33b+/mtR7RuV/i9//cX3/uvff/3p2a/P/vnrP2AwGAwGg02rUaWmek013pfvv+z+Eiq6o6z0vt+f//pLMQoMBoPBYLDpN6rg/l491PWi0v/863/85cA/fv53cSQMBoPBYLDpt5/+Ge7sqab74q4q/eMf+ePdn1DmYTAYDAabVfvrT/+mav7kx3Bbryr9X3b5lr84AAaDwWAw2GwZVfP/jt/Wq0r/wP1BXdEbBoPBYDDYbBlV8//a/tkXd1Xp6QNUehgMBoPBZt18QffFHZUeBoPBYLC+GSo9DAaDwWB9NlR6GAwGg8H6bKj0MBhs77a9dfn65qOiEQaDPbc92rh1+f5u0fichkoPg82kfX/97JH5u99X7ZOxR7c+f+mjW+LsP9yYn//41j6nJxjsAOzp5uIHZy5sPCvbJ2S7Nz459u61H1LL7sbKux989XXuMIqNs9LfX37pd8cqW75bdJP2dPPce8cOvffF3afVRzNjuyvH3Eo/WNnSH31/7Qy1Zxd+d+v9w8deemf57rbqtl+2u3XnwpUDvut6dP0sLfnQJ3erabCa6aOj163a8MPlj6jDmcsPi/b9tkqlL79z5uMv17dGcco3izzCQIUPsD2J/+m9zw43N/b5rNiN1z9995MvVjakj3789vry+2+6Tw+feOvYcvzUyf73ywcQud1z3ierHLT3EPMKyRbENvqmPbl75Ysb3xWNE7ftzXMf8HIW78v2Z9+vf3X0vROHaKWHTxw5fevbKqZ8SnzpnXYZ2127wMeOHFCj2taVUy/97tNzG2X785lPaNleee/s8Sv31JX60wcri2deoaJAOfPN+aOLd8KObXz1qiwcI9n4K/17yyvr925nezAoMLbvfkzrPHx2Zdz5fXz23cqR4MtSK7rSu1J3+OzlcUXps9unj+m7rgOxzXO/p604dbFYpt+lwxdumzluspU+qfT6ymefzL/Mczt1buPHsnOHPV+l34v43SXUvicjvRtrty6cPsNb8btPF++H+5uvlz+lDofePPPuB1TzTh15nSb8+Q034d11zssHcFvfNed9s9JBI4SYV8j8Z9dZbDeuXT1+9ATv58hxurXyVllfJ227WytHSQa8LjWT76+fJT0c+uAPF6+vX150Tqkqeqj07TK2de4dP+yEK71LWcfu7Pc9Uqj0R79k169cWT76Hr8Vrg/rfeWjM5Qb3/qAs1C8lP/zRbqQ+v1z3daPv9LvWcQ/7pYts2Q+FR5fXKarsFeXN+VHqtI/vHfhy1u3v9trLRnetlivB1/p/QVyuRV+l95Y3pKN2iZb6fVG7d5ffoMaqYbt7c7++So925Di9zfQz/tAr2HVbvinMi8tfsNvn64fp9fuYdXdRa/kZ4+epoL6zSIVwn1/zNBpg+e8zyYdNEKIeYVIVbtN+92p0a74+TuUA630W7f+wJHy+tmjroyJmbh15Ut5d1VUTdWnxEOqZ/XRhCu9u4G2nzWObKHSix3wd0FBDLtrF+jTI1ceOJG4xqdZbG43nuvK/qAq/bPv169+/EF4sPP+4np80C1y5dNvFvka59TFLf/Rj04rdKnuqiNVyk9O+Qcdr3y0fPvAn195c89UXQp2XtTyVZXeb05KRk8fXD7tlkO7sXxvZTFuwsNb76o9LGrJk7tffn7EP0p9/dOjy/FZ0P2rb/nGYL6/tedjtu07R/mMYiv8Lv3u7Iqvo21XlpV+d+vO4rFP3e3asVc+uHA5Pp71u7q4Rhvo7sVP3/Ptwba3VhbPvuHuOV7+4POL9W26oVJ/LfJqvBbJZz984sgnK1+nKwDluGVeadjtcv5UGnmeHOch5qW5duVc1//s5Y175z5ilx258udwRjJfcRfzSh8lz5IMFu8GzzrxvLG8fnfZPRJ8/cyFjR93t24d/8DdR7555tz6kzRCsLpqulpy6Jy7UHt46336lCv9k5WPjr1/vTjcZ/MkzknZ4Dmz5TB5+Z2zi2tyJx9kebxzNm1Iez+lg9ohtvvt9eWj7/D2vvT6/MdXNqvrNj+CrPTuciG2NJxeJIqcEJ7cmA/h4C0klk7Bm2LmuR2av3X32gX3qGb++K0fKDb9TGg5x689qC9Dd+9/9e6xqzSCkLe3Z48ePvha3Mn4DsfX1IOWELzXeFGvLn6Tx3ePTw6dXrnAkZIVZfjlx29pzs4dpOrF63Gewrmv0Fak37jRokImoeVfvZt9wbZ1ZV5deBmDhNK7Fvbn5aNXv37qpuF7fvRVMWyr0nvXh0dE37vLU670HGXVgz338Kb15GNYG3+lP7ry7fbuo2DxImVr5d3XT7x/+urltfXLi6dop+LtnUp24dbqoz+SR/13NqHb0wcXj5545aMLF66t37i2fISymPFNz4TN30z4+1d/LyuvDe1K/wPlTXr71idfXL5+69wn8yxlvwmDKv3ujXnOKXzU2p2L87yNhz66xerffnD7+jIpIz6Udt+YmHs+bguX82krwpf3p++xGExX6kq5cfUtV6uOX7lz49oXR/kSMFzz+V09dPjEW59cpcV+/Z1MJbu3509Qvvvsyp3b16/yUfVtelUngq2L9o2vSIeH3vv8nJvkuxTMcZKm4wZV+mff33ffFJDd+kJ8i6HE7/vTut5dvHVj/Z76jvO7P5IqUthTYaPzvnz0wsXr91a+/Jw2Kjz08+Lh6V1d8cv//advuAFX/Fani61kOma37q987LY63kyEbPXy0c/f/73MWcG2rpHmZRmbiHXM2f8i5MS7p1dW1u9ccD6KXzGE56VH5ldW1th9L7vwMfdTOqgVYo/W/vAyFfhFd6JjfKVYfZfhRzh1ccPnwz/fXeZH3G/EItdwukoUMiGwii64nwT5B8JO+UMI3hSznxstfJnE/Bl/7/7pG+8I8Qy8p6wqvTa6bRMXNMlCpb/vL6zTTd2zu4v0ljp7vYWIsPzy6NYfXPsyp8HTZ9/6xOVA79zD80fP3bqxdmuRvyXx839wwbd/yZnk4w9OhVvHaG4h4Yz2IGHmfpyVL8/Slr76zqeHXj+zeO2Oz67V8/8QO5+tOdc/fHDjnMvY6RlYiNYT735y9tU8gWT3PqNPn+Mx1fgrvbI6Czzb3V7nNYRHkSrZ0adfn+OAef/KynFKTK7k68NJQ7s33L3+ABVOyty3Kek7ae858bs8s9K750VCGWITBlT68ij/zOPYZ+uu1JUHSiv2fPzmpxq2wiu+5S/lSlkpfbIWh2y5r/ndgH5XX1101w0DjK643bVXmXy9I+qNCuqlrfZnP3Nxy2fn3Ue3+Dkb7/MAxw2q9Ml+dBktPqbS4vf921fxbm7x9sjdGby5fPthmN7XX9IynQi9Bo6GqPGPB186ve43yj+0KFNzFbMvi8cnbNubF/xNHtuJN459dfthvrRKiTu1TMIGz9n56JXF9eC77a0LFKROOf7WX91Kstn7WWSngSH2aGOFPy2/y/AjKHtj/m76RV7D6X51jUqf+7c3vC14W8zF6txN5EvvhfTl96qtRmeDZvLPJ7dPs9jqW4ssGH8T77fLRbfzi6z0pl/8PdXHa6pg+wm/f+VBWObDu8eprNLdxVNXMt+7+q3oLMydUa+6MUiRzOPNjArJtJPB/FqEuce3UjyP7l8Nv3Ulk89o2Zx32mIbysZf6dNvndg2vw+aFk+Sg/l90WpjS7/LOKO+yhKPfL1NOr/U5vP+R3+MzzAeXGTX5vpkVXrf/hZ/Q+N7ik2wK72WGptvCQ+cG2nI2vMJmL8Gclvhf4snLoAMV8pKWavCt/D9Sr0PysTDTG9lT++IOoTyPb0/V2k0ziDHDVHpt67x/dz7eT5qmYNSp5tz+Mg7ujL+tNCArhl+8uX4ImYvu+z88rE7jeTylK4UPz3ykf/pYn7S2B5z3DZwzn5KlfEm+x3+bF0MRTZgPwsdNkJMPL33VurKjxB+kUd248of+GFV3MOG07XXipM2+ncI3hRzx+rcNMwoGyTXWObpgqb8SAnG/+J98f4P7qfK/lGEqPQD/OL/iMk9XT937Ru5M6XxcvzltSulp1dubBUPXdwZ9faW5j71M08bopcvpp3NN7oHMGtXecKH5881fjT6jK/If3/qff8VW9p/7538ds82/krfmpz/WaZ/DnN7/ar4dlOrjcxf6zlH5ovTh8617lkuRYt/hNUS2SQtXNbVFh5TF+IQAVyIRm1CmU3yR9VRocWq9PaeT8LCE/vFe/5WMn+pYbpSVspKFaGlq9I/3eSfeviHb+v3VhbnGz0NlYrv6Tfdb6Y+v5AvWNm+fTjQcWr+bEUq9N9MHYp32M7UMu3UGa4pw3n9d+fqeppsk28TW8l6qEofDnngrs+OvX+92lsemTff306lL+zdmCP+uGx0Gzhn//XnW4usrmz3/0zb7ne4+OZ40H4WOixDLDyAdN+m3QvP9ktd+RGyKsi80rw3G07XXitOWvbvFrwp5o7VuWmUsSPMkOsPN+Z5dc0yT6ZE6J/wv/MpxUW8+xclc5Bf6Ngfvr6+ctw/bXrni6+f/vr1OZ6P/14j24YX6rNHW/cun/vcf6eu5e2feYRNGDBIEft6+YMqve8T/oDQTVX0YeOR+dmGV3K6jHbeET/N2asdSKUvNsI9TglvtdrSY9v1e5+RCOJ3Tn6X08W4IbLJWvjd2ecXpSbWV/jPcuK3oUocMoDvL7PX51PSFxvif3sVnyapj8pHx4Of3g/Y84mY/xXe4VNH3qN/86/zbFf6Cfuc2P30vp2DdHpy3yJXPVsq1b+999dw4uxsbpMHOC4cNR+/etQqpd3gpFb89bkS/yBVu6wXfy3on5dU37iTtZL1Xio9a0zsA9uu/6U9j8zz9Bdw6RLcZcbceUI2eM7+GZL60jSUdv9sVl9skdn7ObgW+k/jdyX+txSFruIIqtJ7R/urpYbT/VP0NEk9bNm/W/C2mAevTo9cW0uuP6wc4xvTN06v668wshUi9G9FfpBZa4Bfsn37JV9Y0ID+bz71n/wEv2ej20i5RmdSwwMGKdKOXn6RbGVj6uNzmvxG49muWzWPzEHq/1+WKGMV8qPYgVT6cPt7hH8Z9AX/1wpcDv2+KLX521C/F/4iyH+R4x1w6AP+5Qj/joYPL0Q2afOOT7fvyfwFu//htBKH35yQdv03FO5nONev+r+zjJvg/c17VX1EpZ0DqfGLPDJ/ifC7T48uLn+8TLMasOcTMr8VZDJybFfKSs/57l36yP5FXjsH+Sz/ztkL1+9cPH2GBqdzlT29I9K9QvPv6f3jQX+r5DocCo9bBzguPsagpa2FH4Klpbnf8Z34+Eq6IvTfainxt1JnMvdFYIyscF0SNsf9iba/V3j+Sh/vU0PcuRO9Nb9y9/qFl978YsX/9i3n5QcXaQfyVemkbOCc448h/NOs9ctfXnj39WNvnPO/ig/fDPKPztwv8g7R9cFDez+LWliGWPiKin+idYXPwiFWZj8/Qnx6v3brggvbdM3Xcrr/WyweNvyAjvrHYd0Pxflv1s+dvnCZrimHEbwp5tEq/e63TsPyt4Hu16OhsL3C+vciZ7ur/664EuEPt7/84sJaOosqmZZf+MFSaHT7EwQZJhDS4yL/gu8o3b6T1w6HRh+V6q9a4vVfnJIxSJV29l7pXfHmdOevupxKD88fv/LN5dPHXjl35+4V/vPFdBnqf2RTPn/aix1IpadFri+KP/VxzwD9vgi1hf9CLv1qLFwEue81n9xe9OmYf9TwyN3h6fCYsPknLcWVsjO6BqdVuN++2ZWeut31f/vk/tTnjrrhjn/ocujNU8evbd1gSSUNGX9l52zrlv+TjxNHPvmjy/vWnk/KfBpKv1gMZrnSB0a++xn8V3atHET247dXPne/AHD/RddDfq5Q9vSOENb+P/LyX+bw14EX0t+nKcc9cQEvvOP/vM3/B2Fr/ACAl+ZzqDK/zOErvb9sypvzaIP/do5rBv9KLv6/dftQ6ame+T92PfYx3XRub12eD5cswV4/e3ErXQ+x78SvFiZlg+fMLbvpr7DcX2fF/3qMjFbk/0hSu7W9n0UtrEKM/w8Zdxb+SeDWE762LrOfHyGb+q/QDKenP4x0GtvkuEjDPg0/kOS/LuMCOYTgydpiHq3Slysi4/lXYRUsZTxnbRFmK0umofP0Qx/XmARJuWU5/GSBkufHX/r0mH9L4RvL5w3uRv9QnmdzkP2o9PzQhW9lfY3jpYVbhWAvH1v5NlxD+/u0/Ch0BBtnpYeNaGVCgcFKc2V1Un8nqe3pk7vn5l86dvXu1hP5BKu4+IDBZtNcWRXfWE3Qnu0+/Obce8eOfrn5rfiTFv/VcPVHInszVPopNFR6WKe5n2W8Pqm/k9S2de2U+H9pvPFPvZ4zGcFgU2HuyeLR8j+Gmoz9cPlo+ZDD/ar0ea+hUemn0FDpYUPY0yffH8Bth23bP8S/oYXBZtsefXcgZd6yZ98/93xQ6WEwGAwG67Oh0sNgMBgM1mdDpYfBYDAYrM+GSg+DwWAwWJ8NlR4Gg8FgsD4bKj0MBoPBYH02VHoYDAaDwfpsqPQwGAwGg/XZOio9DAaDwWCwHpgv7o1KH94AAAAAYDZBpQcAAAD6DCo9AAAA0GdQ6QEAAIA+g0oPAAAA9BlUegAAAKDPoNIDAAAAfQaVHgAAAOgzqPQAAABAn0GlBwAAAPoMKj0AAADQZ1DpAQAAgD4ziUq/ufThayfXdsK7337buPTa2x+Snd8IDY7tmye5UZruoOAx3760Gd5NGbzAhZuPwzuBWKPcEKs9btTc6nZoIczBAXihcTmhERqbS41EYXX2lCmLiMFYxuNvW+dj+2tLW6FNYXWw2q0skTA77KwuhHakCKAZd6WPohSK3Nxwsn68NlfpW4fQALY3lxaMMDhoaF1vL8ydbGacHNIck3H+RjslAp+h6EUcjQef1usbAA4SDpO5Rg5JcSSgsm1mj0bK0pfXXKHjTYjKWjKQI1YH80ArSyTMDjzJuFKXhVDsQWKslZ5DgkVZxBWr0MVS1KtjT5V+avFZgJNOGWZlkY75YkB73DSKbZdZeIsGPOcA4IUl1DxZ7TxlfDHhZqNBO2Xx4CJZUTyGTNXIbDrwrQ5WeznbmA0SZocyOcgLAgDGWekfbwcpK1mTIp1SSbJDVno63F8ZCNHH2OOjxOAxUH2HcNTErm3TEmga5UnV1bfDh6LV7gbxIR1Gy/kFAKBIdS69cIjUka4AOL58i447pp2yfH1NEZ2Ka11NyyRmdbDa7WwQMDuoGTp47fKaALzQjLPSJ3TYsDQ5zBaGq/Sp4KnrWVZ8ODwfSCOHEahnOmMRtGNDxKRR6dV6Q3+rnV/FPMVpZVKrAGD2KDKDjBTxEcHBFT+tQy/TCDcu8C4ec2jnhBNoVPpmB6t9UDZwmB30MhnOHroFvMAcQKU3YK37whasEYS5girFs8oXbq4aZ6ljYByoNe5TpU+EJaQtmqUA5gVKtyL7gP1Gh4yOPhX+RWDSW0ONRcpSVZOOCnWaztss2OGd3cFq78wGZgdUejCQ6ar0Wv0JDq1YJ1qVPpaT/NSOYOmno8at+FSDtRUz1JvgQ9RqD28YHpyWlpdM+6k6APAiI/NDsJxJZAlUOcFbeUUeUCmrSk3x02aoyp5WB6u9MxuYHXhpei2o9EAw9ZVeKThfkueyR/g+dE+flC1VLkN9QuR5ZsppcHriSxOrPUKR7LeFXoR2OqR7PwF4IaiLnx3+rcBsolJWq9L7MYvMxueqym2zg9WuZkuU2cDuwJMs8oa+mAAvNFNf6eWx9DoGkqj0WeJJ3PI6gF+r2JgAIqGI4JexJ9OT1c6I5dNHYX+oMfYH4MWmmTdEgdSlsah/O4+rhOPRKUvnEB48nlGdPQ/Omcr3NzqY7UY2GCKNiJOq/gAQ4630LkLEszJZw0qaEUtwezh8ae1m/Dt1HpnlzlGXdC/euhfO5lbXzG/jxgWdPYYZh1+61hZrUVvRbtf5hUjdJrwcAKYUFyONksblUNRaFzWiUvpYo+Rwcq0IJStlqfaccIicalQBzrNqdHBY7a1sMFQakZNs7Al4kRlvpQdE87/oAgCA4UEaAc8DKv2Y2bgkvzwDAIA9gzQCng9UegAAAKDPoNIDAAAAfQaVHgAAAOgzqPQAAABAn0GlBwAAAPoMKj0AAADQZ1DpAQAAgD6DSg8AAAD0GVR6AAAAoM+g0gMAAAB9pqPSw2AwGAwG64H54o57egAAAKBvoNIDAAAAfQaVHgAAAOgzqPQAAABAn0GlBwAAAPoMKj0AAADQZ1DpAQAAgD6DSg8AAAD0GVR6AAAAoM+g0gMAAAB9BpUeAAAA6DOo9AAAAECfGXOlf7w29/aHrzmbW90OjRuXfMv5jdDg2L55MvRMpjsoNpeow6XN8G4KiIuSlpcccdMOJlYn1n5ybSc05jHVONy4cPNxeDcTyFUbk986nzosbYU2AY/Q2hkyQyTWgB0nArNHHXpSKsPiYlBLYmd1IY2pZNYpP7PDyLIc2MGlWSMQBiLyc2vTfF6SAds5TyOVme1yk9tpzerQeSCQjLPSs4ySD1givmJtbjiJ0KdKKyyFujQabG8uLYwUz5NCrT2gypUo2Nwet4LlG/rQjvlLGXoRh+Jhp+n6ZijIs4NDkbWR8pTcDY/bk4W5tHWVrqocp7QkBrTawSzDoaSCwtWAwZIrYBVxzRB6cIPEYaXkOuVndhhZlgM7xKuKPVd6nqeaW3FetQNMd/jIRpHKzHblO7VvEatD54FAM8ZKzx4VUshvncKKuCpkNOu0woBiXsoxpgDeDRlOol3EiQtI3qI9x/PBQyuSC6ygoE2RTxQb4kNa9KHdkDpRicPTGNDtvNUOZhqvkPAmwAFYqMKCZcCKKvKVllkOvU75mR1GlqXdgQfn16NkhmK95UJ4V4edRoBbjFTWbK8SGnutKgqtDp0HgpIxVvoC4STndXJ/5VQZIRnWnH9Kk70bZcpHCf2xhrzLXQz4o7QcJ0AdAzUxbMoAyxuVCiS94NGovb0/U04Z5yXlDsj+aSdzlklpIlLtdhX2QVpWe3gHZhTOD5XAtCrY9T4b6FhjHm/7lphSInLYPFqn/MwOI8tyQIedx74bt6iTRoZOg8UIvIoiNDrnaaUyM8VVkVu60urQeSComFSlZ98EJbGbOeQWhqv0pDkZb+G1CMt8II0cRqCeSVskgjq8x0kVEhoWJe1AvZBAPjz0dPs28VXsG3EVzlrpRmjDezOuVCTNvHxq1INUYZ9lEAgKsdrDOzCjsMDqLJ/FwwEVY6cOt0TjI6dMp9s0fqf8zA4jy3II3XJLjCABnTolDTOB8LG0xuKMdcx2TsNKZWaK453RjitcaXXoPBBUTKbSc9RpldQEwWVrBGSOIqUeH0urhpRrWYwVPxkZ6k1YmtzNDANJWELaopnVdFx1Cbdn16cEnTVDHVDpQZN2luec44RUCIbetsOniER+m/IJa6w5Wi0/s8PIshxCt9zSqPSSkEMseISwfLfYND7vgzuwcxpWKjNTXD2lwpVWh84DQcUEKj2HXOHpFrV8E26EYCGKGmGZ7v88Tq/xqMmJIIi4m7Benrm+QKlGCGGcl0yyHuoUU8gALzN57cp92c5vsBgqR6vc2txAOqnVHt6BGaWZ5ZMqGkLSlTiiU0ops/hpp/zMDiPLcgjdcos6aUItf2AaTNtIL1RGCivqnIaVyswUV25d5UqrQ+eBoGLclZ5VovVhUcvXoZxKo4XXKix9H7qnT86WjudPJyWCWoKJUotxveX0ykxBUeG3hV6EdjpER87sYHjZwT61PEW7F5ecNsRT5xHZmUlOsdrBTFNGFsO1JPg6J43BqJRShWGSWaf8zA4jy7Jbt0allzvDR7XyTyJ2rlYUt6JzGuUp4oFWezVt9lp1MdHq0HkgKBlrpWePDu2ASnkeKS/WYtCWCMvs9eRv8al7rXQ2RhqCy/HA88yfiiCUR5VhJpZPH4X9ocbiLFPMzuqllA6kL8q94o1S0auQMlApRmTkvKVKS+JEVjuYZUQoeZzMchEqHB1/xVbCR4lufJSSXJSZIb98Fkufe5VlHqdTt9yhjh25Ihl6Ad63NE95Cjlnd2DYh855qrmJA8125bvmetsd7HZgML5Kz94ST8y8aakplIwEYpyltfSX2VHExcVEeuteOJtbXev4K699wsVSJThWpAr1sBY1JdGeYiAM2Ow2ieXsE1s3ly7l54d5dW4tKuCb3o9QB7Ezvr83lZLy/mcBCHkQVjuYWYQYgkmpOLjSxE/nTq4V4SM/ZYvCUEdJcTbk19Cz7uDZiyzdIPHwIQ50Zp2unQbFPHX0iWHVZnbOs53K7HYftv4jHbxx/FYHxmoHTcZX6UFgc2mGCvNMs31zqUzxAMwuL27q2LikL1nA84JKP2Yg2UkhvyYAYOZ5cVPH1nn13ALsA6j0AAAAQJ9BpQcAAAD6DCo9AAAA0GdQ6QEAAIA+g0oPAAAA9BlUegAAAKDPoNIDAAAAfQaVHgAAAOgzqPQAAABAn0GlBwAAAPpMR6WHwWAwGAzWA/PFHff0AAAAQN9ApQcAAAD6DCo9AAAA0GdQ6QEAAIA+g0oPAAAA9BlUegAAAKDPoNIDAAAAfQaVHgAAAOgzqPQAAABAn0GlBwAAAPoMKj0AAADQZ1DpAQAAgD4z5kr/eG3u7Q9f83Zybcc3blzyLec3/HvP9s2TsWc03UGxuUQdLm2Gd9OCm5W35ty2zovV5Q2Ra8+NeaPmVrdDC8GNCzcfh3ezg1vj0lZ452nKQxJ3oNwEjz9cHSh2uDhXwOpguABMP0IkI3pQjlDLxn8q20X/do4yO1jyG1m3DhcIA7JlE5GskqXEYoVD5zytA8342lldCO1GWrM6dB4IJOOs9Ep/OdFvbjiJ0KdKK9yhkc3bbG8uLUxbRubISSviUK+KPS25NWd5IMs39KGg8iPQiyhl3tKpu74ZgpggpMcNeWR4D1MM8wg6l9WHKAkpdwTMDoYLwCxQxZqrAUNn/0pmOgtVLazbAbIc0MGS3+i6ZeJVRTmNPSJkX53Oai/nqRplHFntyndq3yJWh84DgWaMlZ49KqSQHcyOqfK+ltEMQiEt1cbLKWOP1FnFhtsNmadiaqB2ESduqNaY049zN3m2oYemPCJFB9oEKQ/OHbo/b69sqePf6mC5AMwEMulHGvIwaOgqq44jrojZon+tW7ODJb+RdesH59fPnxmE5otwSG8751kcKFNZO77KaevNJ6wOnQeCkjFWek3yDb1wXif3V06VEZLhSPZPabJ3Yxngo4T+WEPe5S4G/FFajmOi1H2pRSLOWZETQSSqltbiw4Ne8MhFBpkZHm/71TWXH2lsl97SlB0cLInSrc00YSdxInSwXQBmARaDLCQOHY/sUJ8NtKMrQqx5XA4pRtY6JMrANztY8htZt/Rq57Hvxi1l+DjcErrTYB0Cmbi9nfO04siMr3LrKldaHToPBBUTqPQsCJJa0gS7mUNuYbhKT5ETXcgODq9ZPeHwfCCNHEagnklbJIKO8N4X3DLjilyAlaEVFu4tTkksJBDCgGD5cmeO4QmtYozUK3WU8tBw3nSbIDczNTqL25K9HygVZXUY5AIw/bSzfK647E073CJBVLlecrYRMgtHUTcd12XVMTtY8htZt+Edwy2NSj9sGsx7VcEj+7V3TsOKIzO+eGe04wpXWh06DwQVE6j0nqwYA9ehEVqSHEVKPT6WVg0p17IYFyFZ2PPPsNbdbIcqM2EJaYtmUtN2kiVa8lDRy3vr0wqPk5NpPrAzE1kdhnIBmFraWT5Vr5w0HPR2QPhkmbEGGvIrRovJR43f7mDJb2TdhncMtxilOmKnQda/cRHAmxA/6pyGFUdmfNVTQqUfGxOr9J3OqOWb4DCLFTREUaEefltclrIa0lGTFcEwsuPp8VrqMAthkAlhnJdM4+vImQnqgFeUm1bpgTq4jSozTjywuW+yp9VhCBeAKaYZbjG+dB7wpiuxJoohBF0itnMuqvKMHNDsYMlvZN2Gd0w524xafjMpVROO8HnFIZ3TsOLIjK9y6ypXWh06DwQV46v0lRw7nFHL16Gcmq+XWT1Jdr4P3dOn8eW5+NMJioBPZ0SdJK2rnF4ZeBQVflvoRWinQ3TkzATKZd3ysDrYB9ILuS1phxNWhy4XgKmmVA7DtST4OieNFqWvrYqeylWKR0+zjLU7WPIbWbcZDoqGYuXOlCIP1PP38AYW/TunUZ4i7qHVXk2bT1pdTLQ6dB4ISsZX6b3OkhSqBF1idJDyEgOyQINrs9eTv8Wn7nVL4uOBJ6M0l+Nh++ZSihPVTcq0DDyxfPoo7A81ylPMCNIpjCEP5cTsOM4Oefm5XcpGvha7mvsbHQa7AEw5Sg+MU04uQtK5RPwVW6CWmU8mWgai8KsKl9vzWYwOtvyMdpk6DN1GuEM8S4aXEHvqZSbk9DJ8ikbnznmquckNtNqV75rrbXew24HBOCs9wf7wD46yRAyUjATcHgZZWrt5Mng0ipiVmjQk3roXzuZW1wZ+M7ePuJMWRcLtAMfSxtr5JQq2NCu5UrFGcXgVnKnbZJazb7jEISz5qyEPt8a4CW4HqqMIU1fZ76m/GyQlgkYHR9sFYAYQYrA8KBU4d3KtCB8pM1n2rHZ5xtiudNvq4LHk12p3g8TDhzjQmXW6VhrUc46ooIs2aBpqnlYcmfElTqeDNI7f6sBY7aDJmCs94CwzY4W5d8inKQDMDC9u6ti4pC9ZwPOCSj9mINmDZmf1Ei75wezx4qaOrfPquQXYB1DpAQAAgD6DSg8AAAD0GVR6AAAAoM+g0gMAAAB9BpUeAAAA6DOo9AAAAECfQaUHAAAA+gwqPQAAANBnUOkBAACAPoNKDwAAAPSZjkoPg8FgMBisB+aLO+7pAQAAgL6BSg8AAAD0GVR6AAAAoM+g0gMAAAB9BpUeAAAA6DOo9AAAAECfQaUHAAAA+gwqPQAAANBnUOkBAACAPoNKDwAAAPQZVHoAAACgz6DSAwAAAH1mQpV+c+nD106u7fg3G5dee/tDsvMb/r1n++ZJbpSmOyh4wLcvbYZ30wSvbuHm4/DOIZaWNiHxeG1OLDnY0pb/cGd1ITaKMeMGzq1uhxaicd6pIU6YTPlUrF2tJSKWr4+1Bvxt63zqH/dQY3UY6CMwzQgx7N2DjbSTE4slM1N+kT3rc2TdOlwctWcyBCo5l4jzqj4jx5HVwTywnQMFZodON71ITKLSsydOLsxF/21uOGWQOiuJNNN9i+3NJRqzqaSDJGpOCY4DKa7UbcXgaXMIBV2yUmPS4WD2w1IH30gv4on406m87iHKVcTV5RURvOra+7R1jRCtDox9lITktkfMDnv0EZgmpMAcLgxVDA5PVsLQui0lumd9jq5bJtazRqR0wyPz4W3Bq6gcZsLydTOOrA7mge0cKLA6dLrpBWP8ld57gv5NzmMfOHlF1zqUemYRFitrjlQl5MiLlWmoQ3NC5bwhsmcIBhpQhIfrUPacKmiS0q3pLa9UCKB466B1VYFdDZh3TGqMUKHusDrs0UdgupC5PsLBIn09JEIzlm5N+UX2rM+RdesH59ejZQDWOQddMX6iiIvUzZpP0b+OI6uDeaCRAzNmh043vWiMudInEWRxkG+cU+mjymfSNxk61l8ZCN2w5/hwPkq4MGo3xIA/SofNuNjeCWehOeQz1gqrxCoRsZG2LsH7QFtHfXxUhBMVmp5uTC+3tkXtZERskSduVDVCeS6rwx59BKaMEBcaHT7sUJ8NBqZ72+9JS6b8InvWp9Ue3tm6pVc7j303blEnjQxKg4+3w1YUlTujZpKmYc2nM46sDuaBZg6MmB063fTCMdZKL7ZbiIm9yCG3MFylp0Gia9lb4TWLIxyeD6SRwwjUM0nH1PGYoAlnSYl5Bgr1S5TixWIDSeX8gveQ93bSq3s+eOateOPFVqnKNcY8lT5V28twN27J3g+UirI67MlHYOpIcaHIyYe9GWOk9nUmCqlB1q0pv8ie9TmybsM7hlvK8CHo1MOkwYE5hHfPBWA6ozWfzjiyOpgH8tYZOdBjduh00wvHGCu9EsRAMTlYLimts2nfO7L/lDi8F1eNU9RqGC9KZJ3qF9CBIlw7VU6EPmnrJrnMvcOzbeUjt3CdOyrysWYMK70xZUK0OuzFR2D6qOOCSdFUCIbetsPEdLrSrSm/yJ71ObJuwzuGW1qRJeBpGPnBTM5pDxneH9fNmk9nHFkdzAPrORe+Njt0uumFY2yVnndWlO1othxr+SZYcHGE4K1CHPy2GFxNwJD4WFAi44npKCrUnyh71tIsM1oI77wV1KE18lTg3NHyr3PuENOO+6ayDxM3qtrYUlFWh+F9BKaRMi4cKXxUHvCmw8pTh5un1K0pv8ie9TmybsM7hlvUSRNq+UYapA1sVfoqLkJmGzmOrA7mgbVTCl+bHTrd9MIxtkpfYIhJUMvXoTwUpEawOJKGfB+6p08ikILgTw2Jj4U8SaY8eyXBQN1eRm8RNvTWbxe9CN3oXB2bfEDwJrSc61YtFzWAtPy0cE9OE4XGvCqKLNDsMKyPwFQigz3Cagm+1vFokNSlaOnWlF9kz/ocWbcZo9LLnSlFLijGj1RLi3Fhzac8RRVHVgfzwI4cOKBDp5teNKa+0ssDWbhB4uy54PLs7ORm8al7bUl8LJSZRaozCy6Fh6MtRF5vnLnuL7eFjg37Ro3xRFMEz7zlWRfP9YTzdm1cyjEsXK+3QmYTJSE5TtxGo4PlIzATyDBxuJDPwSKdS8RfsQmK4PJYujXkl8+yV31a7XkcU7cR7pCDJcL7EHu6PTHSoEgmTNpPtwNpWD5v6LbHOBIb0u5gtyvnNjek3UG/Vl54QZn6Su/aw9OnpbX0Z1dRxEW1SG/dC2dzq2vWN3P7jAuMMFW2pDOxBKXgKD75WuPisxjNN8oVpfEnssy9kR2RjTdB7Ek2mr9r9x1WL4lj9dLcjnnT+yZOJxOHjvmig6PlIzATCDFYHuRCEj+dO7mmwyQlDYmlW0dDfkm3jr3o09FqV2lhiAOdWadrpkGRXpy5+at4UTlNHm7NpxVHaiFWoJkB2MqB7uzxvK0ODtMLLyKTqvSgYnNpCgtzL9m+uaRyBwAzAVKEiXzgB4YAlf6AgFInxc7qJXWlD8BMgBRhsnVePUgA3aDSAwAAAH0GlR4AAADoM6j0AAAAQJ9BpQcAAAD6DCo9AAAA0GdQ6QEAAIA+g0oPAAAA9BlUegAAAKDPoNIDAAAAfQaVHgAAAOgzHZUeBoPBYDBYD8wXd9zTAwAAAH0DlR4AAADoM6j0AAAAQJ9BpQcAAAD6DCo9AAAA0GdQ6QEAAIA+g0oPAAAA9BlUegAAAKDPoNIDAAAAfQaVHgAAAOgzqPQAAABAn0GlBwAAAPrMeCv9zurCa29/mOz8hmvduKTeBrZvnsw9Wx0Um0vU4dJmeDdN8OoWbj4O7xSP1+aMRbnlNFYtNlCMGTdwbnU7tBADznvQSBmk1cklR6vm73YsfHpybSe05h0g0/u5dT71X9oKbQqrg5CfPBGYfoQYnsODTgBtzbQFzFg6NPUZ2bOAO4U9UMB25ulCpuUB6cV3kx2s+QycJ2N2aCdDuz0zspt6xHgrPWXzegc3N5xSSXxVqlWlaxDbm0sLI8XzeImaawqOYnVh7mRrQ6jmpbWw+OLh/DpezXCs+nYaxzfygKEnfzqV1z1hT+pVlHC3wqEqPbn494JRg3AGlH2ShHhXy5xodpCvGzMB04wME4eTXFtmBrGOloJhTAFbOjT1GdmzgDuFPVDAsZ6V0+hGBF2xD5r6I2s+nYFmdmgnQ7s9MbKb+sVYKz0Jpdp3gre4jiul5lmENcqaI9HUq/ar26J/Kz0V/ZPm+BDZOcQA7Z4Im2bPqYImKdxqTbURaRznQiEp7PWAIh1QzMvEUYe91YFfyDzV/7DvFTLXRzhYpK8H4NIRKarQW8ISsKVDU5+RPQu4U9i2gHlw7jxSiiiGrc/r4f0fbj72PANmByMZmu2Zkd3UM8Za6clPtTLIN86X5FTlEvaZ3PoMK8ldGQhZsGOip4WHWBne007i/qiWOvef7Z1wlsaqLV02SFFdxxXvA20dje+DIZyokOzUEabtqBflGCLM0taxi9UexjGrIC8VZXWoz171BFOMFFhCK40d6rNBLbPH274lppSKtoAtHZr6jOxZwJ3CHiDgnce+WwqfCl5d2Jx2h4ixP7ycIv9Y8+kMNLNDuYfRKVZ7eEOM7Ka+Mc5Kz3sXA0xsKzuPWk4uDFfpySUyzMJrIbt8II0cRqCeSTHke62eMUMTVooR8rXjjQgh11hsIIk49HRDTXp1I5GVoFcUqKJOwZtGx0ZtlNvrBueW7P1AqSirg9BSIOQXMBOkuFBkUbE3Y4zUvk4M+KglYEuHpj4jexZwp7CHEDAf0goxmkxcEU+jGZ5ufFp7K8/wicLOkIV1WfPpnKfZoZ6bd7rVHt4QI7upb4yz0kt4Hwdkc4K1KETTTLXZPUoT3kmrRs2r1TBetIbU2a14E7BS3eH1tOuMFvqkrZvkMoeFPZX8whMud0B1MHFrZI+bIUpJYXBCtDp0JiAw1XRU+kIw9LYdJrUMPIaALR2a+oyYHSx9dgp7CAHzIR2Zp56Yhs/SyD95JqmDNZ/OeZod+ET61Kj0e2RSlb47e5byFZBX0hVAcEahCScyLWWnwniUVsN4URriVedpRBtU2OI+1MorRRyiN28FdRi0wwcC+076pQrmsoNJWH7VP25UJbBSUVYHnpL2SJdWwTRRxoUjhY/KA950WEUqZXosAVs6NPUZ2bOAO4U9hIBDrmjB8xm8M5Fq5rTz6ryhgzWfznmaHco9jE632sMbwtpt0wt9ZeorvXIAuSe8jvHm8H3onj75WPqbP60SwRjJk6xoxVspzbQPZediA+mt3y56EbrRSnWcTAFlRBXBXMd2pNJD3Ki0cE8egTrIoerQtTqUCqmyAJhmyghiOFiCrwfEo0KllIwpYEuHpj4jexZwp7C7BdzKPIQaqtyoaubmVkRiB2s+nfM0O1jJsCNJEiO7qWeMs9JvXMo+4GgcHG9VZvdIlYtB2DHBo9nZyc3iU/e6SgTjhNRprVToMscYN2Z18hrjbOVrFZNqW2iBYd+oUat8GmCnJA/yKmRkVqEuY1W4W8lDbYUcQUlIj+O30eigX/c+5vuGDBOHC/kcLNK5RPyRWolMGlIqfHhTwJYOrfY0z70K2GoX43QJmEeIZxHQlFJPFW4enls6bx42b7icvDqvNZ92+zALkV6WG2i0N3dpKDf1lPFV+m26yabti8+FVCi2UGoWcHsYZGkt/dkei4AdyR5KyhBv3Qtnc6tr1jdz+wxLJ06VLckoIeKNBZq0Jdaop8rLrEZzjbJbOnwiy9w7HHVhFdLFbtopkgO60e1SdaBq1/GZ/a7yhQ7pooNDuKCcEphuhBgsDyoFnlwrwkR+ylYlFkPAtg5b7UqHexGwo9XuBmnkELV8caAzfTpxlMiuAnF4HNYMKHVeaz6t9qEW0k6GRKvdDaLH96aWb3qhh4yv0oMONpemtDD3ju2bSyplANAPkENMHq+db9w3vrig0h8Q8qsNME52Vi9VdyoAzD7IISa4uC9BpQcAAAD6DCo9AAAA0GdQ6QEAAIA+g0oPAAAA9BlUegAAAKDPoNIDAAAAfQaVHgAAAOgzqPQAAABAn0GlBwAAAPoMKj0AAADQZzoqPQwGg8FgsB6YL+64pwcAAAD6Bio9AAAA0GdQ6QEAAIA+g0oPAAAA9BlUegAAAKDPoNIDAAAAfQaVHgAAAOgzqPQAAABAn0GlBwAAAPoMKj0AAADQZ1DpAQAAgD6DSg8AAAD0mYlU+sdrc29/+NrJtR3/duPSa/T27Q/Pb/j3nu2bJ7lRmu6g2FyiDpc2w7tpgle3cPNxeOfZWV2Iiyo/coi1p11ytA+MGzi3uh1aiNZ5p4U4YbalLd/mPFhYnL/or9aYEB20SLbOx/Z0IofVnrBcYLoGTAtSXaN5qqXPBr6b7GDp0NRnxOyw7wJ2uAw8IJ12wxNuphcxsaECpzOgzA5WFu3Krs/hph4xgUrvPCfUubnhXpP4lGS5WzutN9jeXFowhHKQRM1VQkxT5ZAr5cg1L26F6sxCjFcz+UAKLd9IL+JQ/OlUXvcQKkdwXmh6OS+86l8GodpD2UFJSOyq1Z6xXGC6BkwPMkwc7KmskC6G02fjI0uHpj4jExQwwwt8vmLmJjx3st5StSdyDtZ8Bs3TYXaQXpYbaLUnrN02vdBPxl7p2XOFO3mL3ZVU9KhjT5V+GuGVsuZINFJtvC6pIepW5QuZp5LmGgfyjlF/ETbNnlNFsd6wipIcaRzeokO5XVVLTgcU81JpKZKt9oTlAtM1YJqQuT7CMivSjsFw+uQQK9otHZr6jJgd9l3AfnDu/Dwpwo9G/+qTEsV50zyt+djzDJgdjGRotmdGdlPPGHOl5yAs9EG+cb4kpyqXsM/k1md4EHdlIGTBjomeFh5iZXhPO4n7oyqBjoXtnXCWIiRKNXcqLIiVRa9nzvtAW0cD+mAIJyoGnG6KzQmoTVALL3ev0RL7h33LBEVZ7eGd7QLTNWCqCHGh0eHDjvPZQDu0wtZneQpLh6Y+I5MTML3Yeey78SE6jiKt7CpI52rujJpJPumoAWV2KPcwOt1qD2+Ikd3UN8Za6Xk3k4ySC9l5/HZhuEpPg0TPsTPCa9ZEODwfSCOHEahnUgz5XqtnzJQhweuVk9EKEwsJCHHr5JJE7AYJ40x6dSMTxNDKJlXUZeXUsVdubwrR7P1AEIbVHt7ZLjBdA6aKFBeKLCr2WoyR2qcRW58sMK9GZ+FwS4emPiOTE3B4w/AhRug1smtCjFNNO8J93M6kKY0cUGaHem7e6VZ7eEOM7Ka+McZKz27Le8dSK7yocR0aESXJ7lGa8E5aNWperYbxUoeEXpqe5J7FHd44Qp80/iSXORq0OUXacjsg90Qts+5vhijtWzMhWu3hne0C0zVgquio9IVg6O2AMKn15pzeEGQxbNKh1R7e2Qfuv4DDG4YPaVV6STUx2tgcmNWnDDXmYfmkrv/IAWV2CIlO4J1utYc3hLXbphf6yhgrPTlJCbQdkIlSvgLWU6yUwRmFJvhtcT3OnktHDTjvvtMMCUdLTDxzXfuFuHXncgND9OatoA46TqaQar0qWTRkQIsa1F8lSr38MJTVHt7ZLjBdA6aKZmJJ4aPygDcjPB2V00OUJWIHS4emPiOTE3B4w5SrEPB8WjvDh4hNiyaGrc5LQ/EI1nw652l2KPcwOt1qD2+Ikd3UN8ZX6Us5tgMyU/X3KAcEJRGsiSQR34fu6dP48lz86YDz7jt5khrWlrHApjTL4Cyigt760ehF6EZD6TiZAsqIKoK5iu1u2aSFe/II1FMOlZRjtScsF5iuAdNEK7FwsASnk9ea8ejp0OeADpYOTX1GJifgTJlMAmqozo0qPzX3yppP5zzNDlYy7EiSxMhu6hnjq/RFBFYZvMToIFXOAwa1sWOCR7Ozk5vFp+61Us+4aYQEwXMzwlWqUwlObqCKSbUtdEjYN2rUKp8G9P4XsV2Feqt/Xp1vV1shR1ASErtqtA/hAtM1YHqQYeJwEsrBIp1IxB+pBQx9Zs1ovwu9WTq02g9CwBEeIZ5FINKIm17etAqaZ/xULSQPy3PoCpx2+zALkV6WG2i053Fk52Hc1FPGWekJdkN47JOUaqDULOD2+OBo7Wb8m04WATuSPZSUId66F87mVtcGfjO3f7B04lTZkoz8EvQc3M7ICA9HJWU7eJnlaL5RjpYOn8gy945YhQwnN229Xo/sr8I+bYLQlY7P7HehCqLVPpQLTNeAaUGIwfIU5/346dzJtSJMWvpUicUQsK3DVvsBCVgc6EyfThwlsmsLGid8qhaikl4zKQ0RUEMtRHpBzbPV7gbR43tTyze90EPGXOmBzebSlBbmFwe4AMw0ELDJ47XzHfeWLxao9AfExqXeX0VOO3ABmGkgYJPtm0vqeQBApQcAAAD6DCo9AAAA0GdQ6QEAAIA+g0oPAAAA9BlUegAAAKDPmJX+v7b5g3//b3gLAAAAgJmD6jhVc6rp/q2q9A//9i/67KdfUOoBAACAWeWnn/+XqvkPf/uXf6sq/c7ff6XPHv3f8BkAAAAAZg5/30413b9Vlf5f//4PfUb2D9zWAwAAADPI390N/YMnP/8aK7mq9MTuT/+mHv+1jWIPAAAAzBhUu/1P7v72j3+HprrSE3/Z/cXf2f/lb//6y19/8cfAYDAYDAabTvvT9s9Ur6lq+7dUx0NFdzQq/X9++23bfWEPg8FgMBhstmzn779SHZc0Kr3nn//6z5Mff/3v3V/+9D/lKDAYDAaDwabHqFJTvaaqTbU7VPHEb7/9f0a548xNqndKAAAAAElFTkSuQmCC)"
      ],
      "metadata": {
        "id": "xqmdAczkXfwV"
      }
    },
    {
      "cell_type": "markdown",
      "source": [
        "<h4><b>INDICE:<b/><h4>\n",
        "<h4><small>Formula -><b> AliqEfetiva = [(RBT12 x ALIQ) – PD]/ RBT12<b><small/><h4/>\n",
        "<h4><small>RBT12 = Receita bruta dos ultimos 12 Meses anterior ao perido de apuração<small/><h4/>\n",
        "<h4><small>ALIQ = Aliquota da Faixa<small/><h4/>\n",
        "<h4><small>PD = Parcela dedutivel<small/><h4/>\n",
        "<h4><small>AliqEfetiva = Aliquota efetiva, a aliquota que irá calcular o imposto de fato.<small/><h4/>\n",
        "\n",
        "<h4><b>IMPOSTO SIMPLES NACIONAL = Aliquota Efetiva X Faturamento do periodo<b/><h4/>"
      ],
      "metadata": {
        "id": "lJ1Y-0QQZFJ0"
      }
    },
    {
      "cell_type": "code",
      "execution_count": null,
      "metadata": {
        "id": "yUEkGaiTRZ1K",
        "colab": {
          "base_uri": "https://localhost:8080/"
        },
        "outputId": "29b45c97-65b4-4ede-e77a-eaa84ffa9a9d"
      },
      "outputs": [
        {
          "name": "stdout",
          "output_type": "stream",
          "text": [
            "O valor total do faturamento dos ultimos 12 meses:R$1800000\n"
          ]
        }
      ],
      "source": [
        "#Nesse inicio, declarei as variaveis que simulam a composição das faixas progressivas do Anexo I do Simples Nacional\n",
        "#Essa tabela é o inicio do calculo para encontrar a aliquota Efetiva (Final) para calcular o imposto\n",
        "#Anexo I - Simples NacionaL\n",
        "import math\n",
        "\n",
        "AliqFaixa1 = float(4/100)\n",
        "PDFaixa1 = 0\n",
        "AliqFaixa2 = float(7.30/100)\n",
        "PDFaixa2 = float(5940.00)\n",
        "AliqFaixa3 = float(9.50/100)\n",
        "PDFaixa3 = float(13860.00)\n",
        "AliqFaixa4 = float(10.70/100)\n",
        "PDFaixa4 = float(22500.00)\n",
        "AliqFaixa5 = float(14.30/100)\n",
        "PDFaixa5 = float(87300.00)\n",
        "AliqFaixa6 = float(19/100)\n",
        "PDFaixa6 = float(378000.00)\n",
        "RBT12 = float(input(\"O valor total do faturamento dos ultimos 12 meses:R$\"))"
      ]
    },
    {
      "cell_type": "code",
      "source": [
        "#Aqui, de acordo com o valor da Receita bruta dos ultimos 12 meses, veremos em qual faixa a empresa irá se enquadrar na tabela do Anexo I\n",
        "#Usando estruturas condicionais, após a inserção do valor solicitado de RBT12, esse valor deverá passar pelas condicionais e achar seu enquadramento\n",
        "\n",
        "if RBT12 <= 180000:\n",
        "  AliqFaixa = AliqFaixa1\n",
        "  PDFaixa = PDFaixa1\n",
        "  print(\"A aliquota de faixa é:\", AliqFaixa*100,\"%\", \"e a parcela dedutivel é:R$\",PDFaixa)\n",
        "\n",
        "elif RBT12 >= 180000.01 and RBT12 <= 360000.00:\n",
        "  AliqFaixa = AliqFaixa2\n",
        "  PDFaixa = PDFaixa2\n",
        "  print(\"A aliquota de faixa é:\", AliqFaixa*100,\"%\", \"e a parcela dedutivel é:R$\",PDFaixa)\n",
        "\n",
        "elif RBT12 >= 360000.01 and RBT12 <= 720000.00:\n",
        "  AliqFaixa = AliqFaixa3\n",
        "  PDFaixa = PDFaixa3\n",
        "  print(\"A aliquota de faixa é:\", AliqFaixa*100,\"%\", \"e a parcela dedutivel é:R$\",PDFaixa)\n",
        "\n",
        "elif RBT12 >= 720000.01 and RBT12 <= 1800000.00:\n",
        "  AliqFaixa = AliqFaixa4\n",
        "  PDFaixa = PDFaixa4\n",
        "  print(\"A aliquota de faixa é:\", AliqFaixa*100,\"%\", \"e a parcela dedutivel é:R$\",PDFaixa)\n",
        "\n",
        "elif RBT12 >= 1800000.01 and RBT12 <= 3600000.00:\n",
        "  AliqFaixa = AliqFaixa5\n",
        "  PDFaixa = PDFaixa5\n",
        "  print(\"A aliquota de faixa é:\", AliqFaixa*100,\"%\", \"e a parcela dedutivel é:R$\",PDFaixa)\n",
        "\n",
        "elif RBT12 >= 3600000.01 and RBT12 <= 4800000.00:\n",
        "  AliqFaixa = AliqFaixa6\n",
        "  PDFaixa = PDFaixa6\n",
        "  print(\"A aliquota de faixa é:{:.2f}\".format(AliqFaixa*100),\"%\", \"e a parcela dedutivel é:R$ {:.2f}\".format(PDFaixa))\n",
        "\n",
        "RBT = RBT12\n",
        "PD = PDFaixa\n",
        "Faixa = AliqFaixa\n"
      ],
      "metadata": {
        "colab": {
          "base_uri": "https://localhost:8080/"
        },
        "id": "hRxnL-Fu7WzD",
        "outputId": "b7bf53e2-4fb7-492e-a761-ca610cac9451"
      },
      "execution_count": null,
      "outputs": [
        {
          "output_type": "stream",
          "name": "stdout",
          "text": [
            "A aliquota de faixa é: 10.7 % e a parcela dedutivel é:R$ 22500.0\n"
          ]
        }
      ]
    },
    {
      "cell_type": "code",
      "source": [
        "#Declarei essa função para fazer o calculo com o intuito de descobrir a aliquota efetiva, usando a formula padrão do Simples Nacional\n",
        "#Com os valores inseridos pelo usuario e com a faixa do Simples selecionada, é possivel fazer o calculo e achar a aliquota Efetiva\n",
        "def calculo(PD,Faixa,RBT):\n",
        "  RBT = RBT12\n",
        "  PD = PDFaixa\n",
        "  Faixa = AliqFaixa\n",
        "  Aliquota = (RBT*Faixa - PD)/RBT\n",
        "  return(AliqEfetiva)\n",
        "\n",
        "AliqEfetiva = (RBT*Faixa-PD)/RBT\n",
        "print(\"A aliquota Efetiva é:{:.2f}\".format(AliqEfetiva*100),\"%\")"
      ],
      "metadata": {
        "id": "KRme3TfcvYuD",
        "colab": {
          "base_uri": "https://localhost:8080/"
        },
        "outputId": "dc2c4feb-c25a-49b5-ed3a-3ebb65e32232"
      },
      "execution_count": null,
      "outputs": [
        {
          "output_type": "stream",
          "name": "stdout",
          "text": [
            "A aliquota Efetiva é:9.45 %\n"
          ]
        }
      ]
    },
    {
      "cell_type": "code",
      "source": [
        "#Agora com a Aliquota Efetiva descoberta, podemos calcular o imposto do Simples Nacional para pagamento.\n",
        "Faturamento = float(input(\"Digite o faturamento com Receita de Mercadorias Vendidas do Mês:\"))\n",
        "print(\"O valor da Receita com venda de Mercadorias é:R$ {:.2f}\".format(Faturamento))\n",
        "\n",
        "ImpostoSimples = Faturamento*AliqEfetiva\n",
        "print(\"O valor do imposto a pagar é:R$ {:.2f}\".format(ImpostoSimples))\n"
      ],
      "metadata": {
        "colab": {
          "base_uri": "https://localhost:8080/"
        },
        "id": "wIK_9hjiJOZH",
        "outputId": "f7fb5048-2a52-4b10-ed43-975df6e90206"
      },
      "execution_count": null,
      "outputs": [
        {
          "output_type": "stream",
          "name": "stdout",
          "text": [
            "Digite o faturamento com Receita de Mercadorias Vendidas do Mês:25000\n",
            "O valor da Receita com venda de Mercadorias é:R$ 25000.00\n",
            "O valor do imposto a pagar é:R$ 2362.50\n"
          ]
        }
      ]
    }
  ]
}